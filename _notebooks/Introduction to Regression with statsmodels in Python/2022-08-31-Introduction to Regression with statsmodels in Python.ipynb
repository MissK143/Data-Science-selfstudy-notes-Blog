{
 "cells": [
  {
   "cell_type": "markdown",
   "metadata": {},
   "source": [
    "# Introduction to Regression with statsmodels in Python\n",
    "\n",
    "> Linear regression and logistic regression are two of the most widely used statistical models. They act like master keys, unlocking the secrets hidden in your data. Updating ...\n",
    "\n",
    "- toc: true\n",
    "- branch: master\n",
    "- badges: true\n",
    "- comments: true\n",
    "- author: Datacamp\n",
    "- categories: [statsmodels, Regression, Linear regression, logistic regression, Visualizations, Taiwanese house prices, Facebook advert clicks]\n",
    "- image: images/intro_statsmodels.png\n",
    "- hide: false\n",
    "- search_exclude: true\n",
    "- metadata_key1: metadata_value1\n",
    "- metadata_key2: metadata_value2\n"
   ]
  },
  {
   "cell_type": "markdown",
   "metadata": {},
   "source": [
    "[**Download Datasets and Presentation slides for this post HERE**](https://github.com/anhhaibkhn/Data-Science-selfstudy-notes-Blog/tree/master/_notebooks/Introduction%20to%20Regression%20with%20statsmodels%20in%20Python)"
   ]
  },
  {
   "cell_type": "markdown",
   "metadata": {},
   "source": [
    "> Linear regression and logistic regression are two of the most widely used statistical models. They act like master keys, unlocking the secrets hidden in your data. In this course, you’ll gain the skills you need to fit simple linear and logistic regressions. Through hands-on exercises, you’ll explore the relationships between variables in real-world datasets, including motor insurance claims, Taiwan house prices, fish sizes, and more. By the end of this course, you’ll know how to make predictions from your data, quantify model performance, and diagnose problems with model fit."
   ]
  },
  {
   "cell_type": "code",
   "execution_count": 1,
   "metadata": {},
   "outputs": [],
   "source": [
    "import pandas as pd\n",
    "import numpy as np\n",
    "import warnings\n",
    "import matplotlib.pyplot as plt\n",
    "plt.rcParams['figure.figsize'] = [8, 6]\n",
    "\n",
    "pd.set_option('display.expand_frame_repr', False)\n",
    "\n",
    "warnings.filterwarnings(\"ignore\", category=DeprecationWarning)\n",
    "warnings.filterwarnings(\"ignore\", category=FutureWarning)"
   ]
  },
  {
   "cell_type": "markdown",
   "metadata": {},
   "source": [
    "## Summary Statistics\n",
    "\n",
    "> Summary statistics gives you the tools you need to boil down massive datasets to reveal the highlights. In this chapter, you'll explore summary statistics including mean, median, and standard deviation, and learn how to accurately interpret them. You'll also develop your critical thinking skills, allowing you to choose the best summary statistics for your data.\n"
   ]
  },
  {
   "cell_type": "markdown",
   "metadata": {},
   "source": [
    "## Simple Linear Regression Modeling\n",
    "\n",
    "> You’ll learn the basics of this popular statistical model, what regression is, and how linear and logistic regressions differ. You’ll then learn how to fit simple linear regression models with numeric and categorical explanatory variables, and how to describe the relationship between the response and explanatory variables using model coefficients.\n",
    "\n",
    "\n",
    "### A tale of two variables\n",
    "> **Which one is the response variable?**\n",
    "> **Visualizing two numeric variables**\n",
    "\n",
    "### Fitting a linear regression\n",
    "> **Estimate the intercept**\n",
    "> **Estimate the slope**\n",
    "> **Linear regression with ols()**\n",
    "\n",
    "### Categorical explanatory variables\n",
    "> **Visualizing numeric vs. categorical**\n",
    "> **Calculating means by category**\n",
    "> **Linear regression with a categorical explanatory variable**\n",
    "\n",
    "\n",
    "## Predictions and model objects\n",
    "\n",
    "> In this chapter, you’ll discover how to use linear regression models to make predictions on Taiwanese house prices and Facebook advert clicks. You’ll also grow your regression skills as you get hands-on with model objects, understand the concept of \"regression to the mean\", and learn how to transform variables in a dataset.\n",
    "\n",
    "\n",
    "### Making predictions\n",
    "> **Predicting house prices**\n",
    "> **Visualizing predictions**\n",
    "> **The limits of prediction**\n",
    "\n",
    "### Working with model objects\n",
    "> **Extracting model elements**\n",
    "> **Manually predicting house prices**\n",
    "> **Regression to the mean**\n",
    "> **Home run!**\n",
    "> **Plotting consecutive portfolio returns**\n",
    "> **Modeling consecutive returns**\n",
    "\n",
    "### Transforming variables\n",
    "> **Transforming the explanatory variable**\n",
    "> **Transforming the response variable too**\n",
    "> **Back transformation**\n",
    "\n",
    "\n",
    "## Assessing model fit\n",
    "\n",
    "> In this chapter, you’ll learn how to ask questions of your model to assess fit. You’ll learn how to quantify how well a linear regression model fits, diagnose model problems using visualizations, and understand each observation's leverage and influence to create the model.\n",
    "\n",
    "\n",
    "### Quantifying model fit\n",
    "> **Coefficient of determination**\n",
    "> **Residual standard error**\n",
    "\n",
    "### Visualizing model fit\n",
    "> **Residuals vs. fitted values**\n",
    "> **Q-Q plot of residuals**\n",
    "> **Scale-location**\n",
    "> **Drawing diagnostic plots**\n",
    "\n",
    "### Outliers, leverage, and influence\n",
    "> **Leverage**\n",
    "> **Influence**\n",
    "> **xtracting leverage and influence**\n",
    "\n",
    "\n",
    "## Simple Logistic Regression Modeling\n",
    "\n",
    "> Learn to fit logistic regression models. Using real-world data, you’ll predict the likelihood of a customer closing their bank account as probabilities of success and odds ratios, and quantify model performance using confusion matrices.\n",
    "\n",
    "\n",
    "### Why you need logistic regression\n",
    "> **Exploring the explanatory variables**\n",
    "> **Visualizing linear and logistic models**\n",
    "> **Logistic regression with logit()**\n",
    "\n",
    "### Predictions and odds ratios\n",
    "> **Probabilities**\n",
    "> **Most likely outcome**\n",
    "> **Odds ratio**\n",
    "> **Log odds ratio**\n",
    "\n",
    "### Quantifying logistic regression fit\n",
    "> **Calculating the confusion matrix**\n",
    "> **Drawing a mosaic plot of the confusion matrix**\n",
    "> **Accuracy, sensitivity, specificity**\n",
    "> **Measuring logistic model performance**\n",
    "\n",
    "### Congratulations"
   ]
  }
 ],
 "metadata": {
  "kernelspec": {
   "display_name": "Python 3.9.13 ('my_conda_env')",
   "language": "python",
   "name": "python3"
  },
  "language_info": {
   "codemirror_mode": {
    "name": "ipython",
    "version": 3
   },
   "file_extension": ".py",
   "mimetype": "text/x-python",
   "name": "python",
   "nbconvert_exporter": "python",
   "pygments_lexer": "ipython3",
   "version": "3.9.13"
  },
  "orig_nbformat": 4,
  "vscode": {
   "interpreter": {
    "hash": "0f080ef3f7e154a5496448b61eb994fbc79c03fae547c033702ffc1b7b2a346b"
   }
  }
 },
 "nbformat": 4,
 "nbformat_minor": 2
}
