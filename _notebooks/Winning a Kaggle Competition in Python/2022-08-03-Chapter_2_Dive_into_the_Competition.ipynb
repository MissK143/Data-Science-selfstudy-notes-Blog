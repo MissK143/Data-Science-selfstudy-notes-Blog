{
 "cells": [
  {
   "cell_type": "markdown",
   "metadata": {},
   "source": [
    "#  Winning a Kaggle Competition in Python - Part 2\n",
    "\n",
    "> Now that you know the basics of Kaggle competitions, you will learn how to study the specific problem at hand. You will practice EDA and get to establish correct local validation strategies. You will also learn about data leakage.\n",
    "\n",
    "- toc: true\n",
    "- branch: master\n",
    "- badges: true\n",
    "- comments: true\n",
    "- author: Hai Nguyen\n",
    "- categories: [Kaggle, Datacamp, Machine Learning, Python, EDA]\n",
    "- image: images/winning_kaggle_p2.png\n",
    "- hide: false\n",
    "- search_exclude: true\n",
    "- metadata_key1: metadata_value1\n",
    "- metadata_key2: metadata_value2"
   ]
  },
  {
   "cell_type": "markdown",
   "metadata": {},
   "source": [
    "## 2.1 Understand the problem\n",
    "- Solution workflow \n",
    "\n",
    "![sw](images/solution_workflow.png)\n",
    "\n",
    "- Data type: tabular data, time series, images, text, etc.\n",
    "- Problem type: classification, regression, ranking, etc.\n",
    "- Evalation Metrics: ROC AUC, F1-Score, MAE, MSE, etc.\n",
    "    - Example Custom Metric (Root Mean Squared Error in a Logarithmic scale):\n",
    "     \n",
    "    $$ RMSLE = \\sqrt{\\frac{1}{N}\\sum_{i=1}^N (\\log(y_i + 1) - \\log(\\hat{y_i} + 1))^2} $$\n",
    "    \n"
   ]
  },
  {
   "cell_type": "markdown",
   "metadata": {},
   "source": [
    "### 2.1.2 Define a competition metrics\n"
   ]
  },
  {
   "cell_type": "code",
   "execution_count": 10,
   "metadata": {},
   "outputs": [
    {
     "name": "stdout",
     "output_type": "stream",
     "text": [
      "Your LogLoss: 1.10801\n",
      "Sklearn LogLoss: 1.10801\n"
     ]
    }
   ],
   "source": [
    "import numpy as np\n",
    "import pandas as pd \n",
    "\n",
    "# Import log_loss from sklearn\n",
    "from sklearn.metrics import log_loss\n",
    "\n",
    "# Define your own LogLoss function\n",
    "def own_logloss(y_true, prob_pred):\n",
    "  \t# Find loss for each observation\n",
    "    terms = y_true * np.log(prob_pred) + (1 - y_true) * np.log(1 - prob_pred)\n",
    "    # Find mean over all observations\n",
    "    err = np.mean(terms) \n",
    "    return -err\n",
    "\n",
    "y_classification_true = np.array([  1, 1, 0, 1, 0, 1, 1, 1, 0, 1, 1, 1, 1, 1, 0, 0, 1, 1, 1, 1, 1, 1,\n",
    "                                    1, 1, 1, 1, 1, 1, 1, 0, 0, 1, 1, 1, 0, 0, 1, 0, 0, 0, 0, 1, 0, 0,\n",
    "                                    0, 0, 1, 0, 1, 0, 1, 0, 0, 0, 0, 1, 1, 0, 1, 0, 1, 0, 1, 1, 1, 0,\n",
    "                                    1, 0, 0, 0, 0, 1, 1, 1, 0, 0, 0, 1, 1, 1, 0, 0, 0, 0, 1, 0, 1, 1,\n",
    "                                    0, 1, 0, 0, 1, 0, 0, 0, 1, 0, 0, 0])\n",
    "y_classification_pred = np.array([  0.2082483 , 0.4433677 , 0.71560128, 0.41051979, 0.19100696,\n",
    "                                    0.96749431, 0.65075037, 0.86545985, 0.02524236, 0.26690581,\n",
    "                                    0.5020711 , 0.06744864, 0.99303326, 0.2364624 , 0.37429218,\n",
    "                                    0.21401191, 0.10544587, 0.23247979, 0.30061014, 0.63444227,\n",
    "                                    0.28123478, 0.36227676, 0.00594284, 0.36571913, 0.53388598,\n",
    "                                    0.16201584, 0.59743311, 0.29315247, 0.63205049, 0.02619661,\n",
    "                                    0.88759346, 0.01611863, 0.12695803, 0.77716246, 0.04589523,\n",
    "                                    0.71099869, 0.97104614, 0.87168293, 0.71016165, 0.95850974,\n",
    "                                    0.42981334, 0.87287891, 0.35595767, 0.92976365, 0.14877766,\n",
    "                                    0.94002901, 0.8327162 , 0.84605484, 0.12392301, 0.5964869 ,\n",
    "                                    0.01639248, 0.72118437, 0.00773751, 0.08482228, 0.22549841,\n",
    "                                    0.87512453, 0.36357632, 0.53995994, 0.56810321, 0.22546336,\n",
    "                                    0.57214677, 0.6609518 , 0.29824539, 0.41862686, 0.45308892,\n",
    "                                    0.93235066, 0.58749375, 0.94825237, 0.55603475, 0.50056142,\n",
    "                                    0.00353221, 0.48088904, 0.927455  , 0.19836569, 0.05209113,\n",
    "                                    0.40677889, 0.37239648, 0.85715306, 0.02661112, 0.92014923,\n",
    "                                    0.680903  , 0.90422599, 0.60752907, 0.81195331, 0.33554387,\n",
    "                                    0.34956623, 0.38987423, 0.75479708, 0.36929117, 0.24221981,\n",
    "                                    0.93766836, 0.90801108, 0.34879732, 0.63463807, 0.27384221,\n",
    "                                    0.20611513, 0.33633953, 0.32709989, 0.8822761 , 0.82230381])\n",
    "\n",
    "print('Your LogLoss: {:.5f}'.format(own_logloss(y_classification_true, y_classification_pred)))\n",
    "print('Sklearn LogLoss: {:.5f}'.format(log_loss(y_classification_true, y_classification_pred)))\n",
    "\n"
   ]
  },
  {
   "cell_type": "markdown",
   "metadata": {},
   "source": [
    "## 2.2 Initial EDA \n",
    "##### Goals of EDA:\n",
    "    - Size of the data\n",
    "    - Properties of the target variable\n",
    "    - Properties of the features\n",
    "    - Generate ideas for feature engineering  \n",
    "<br />\n",
    "\n",
    "\n",
    "##### Example: Two sigma connect rental listing inquiries:\n",
    "\n",
    "    - Predict the popularity of an apartment rental listing\n",
    "    - target variable: interest_level\n",
    "    - Problem type: Classification ( 3 classes: 'high', 'medium', 'low' )\n",
    "    - Metric: Multi-class log loss\n",
    "\n",
    "\n",
    "### 2.2.1 EDA. Part I"
   ]
  },
  {
   "cell_type": "code",
   "execution_count": 16,
   "metadata": {},
   "outputs": [
    {
     "name": "stdout",
     "output_type": "stream",
     "text": [
      "Train shape: (49352, 15)\n",
      "Test shape: (74659, 14)\n"
     ]
    }
   ],
   "source": [
    "import pandas as pd \n",
    "\n",
    "twosigma_train = pd.read_json(open(\"datasets/two_sigma_connect/train.json\"))\n",
    "twosigma_test = pd.read_json(open(\"datasets/two_sigma_connect/test.json\"))\n",
    "\n",
    "print('Train shape:', twosigma_train.shape)\n",
    "print('Test shape:', twosigma_test.shape)"
   ]
  },
  {
   "cell_type": "code",
   "execution_count": 17,
   "metadata": {},
   "outputs": [
    {
     "name": "stdout",
     "output_type": "stream",
     "text": [
      "['bathrooms', 'bedrooms', 'building_id', 'created', 'description', 'display_address', 'features', 'latitude', 'listing_id', 'longitude', 'manager_id', 'photos', 'price', 'street_address', 'interest_level']\n",
      "['bathrooms', 'bedrooms', 'building_id', 'latitude', 'id', 'longitude', 'manager_id', 'price', 'interest_level']\n"
     ]
    }
   ],
   "source": [
    "print(twosigma_train.columns.tolist())\n",
    "twosigma_train.rename(columns={'listing_id':'id'}, inplace=True)\n",
    "twosigma_test.rename(columns={'listing_id':'id'}, inplace=True)\n",
    "\n",
    "TO_KEEP = ['bathrooms', 'bedrooms', 'building_id', 'latitude', 'id', 'longitude', 'manager_id', 'price',  'interest_level']\n",
    "\n",
    "for col in twosigma_train.columns.tolist():\n",
    "    if col not in TO_KEEP:\n",
    "        twosigma_train.drop([col], axis = 1, inplace = True) \n",
    "        twosigma_test.drop([col], axis = 1, inplace = True) \n",
    "\n",
    "print(twosigma_train.columns.tolist())"
   ]
  },
  {
   "cell_type": "code",
   "execution_count": 18,
   "metadata": {},
   "outputs": [
    {
     "name": "stdout",
     "output_type": "stream",
     "text": [
      "low       34284\n",
      "medium    11229\n",
      "high       3839\n",
      "Name: interest_level, dtype: int64\n"
     ]
    }
   ],
   "source": [
    "print(twosigma_train.interest_level.value_counts())"
   ]
  },
  {
   "cell_type": "code",
   "execution_count": 27,
   "metadata": {},
   "outputs": [
    {
     "data": {
      "text/html": [
       "<div>\n",
       "<style scoped>\n",
       "    .dataframe tbody tr th:only-of-type {\n",
       "        vertical-align: middle;\n",
       "    }\n",
       "\n",
       "    .dataframe tbody tr th {\n",
       "        vertical-align: top;\n",
       "    }\n",
       "\n",
       "    .dataframe thead th {\n",
       "        text-align: right;\n",
       "    }\n",
       "</style>\n",
       "<table border=\"1\" class=\"dataframe\">\n",
       "  <thead>\n",
       "    <tr style=\"text-align: right;\">\n",
       "      <th></th>\n",
       "      <th>bathrooms</th>\n",
       "      <th>bedrooms</th>\n",
       "      <th>latitude</th>\n",
       "      <th>longitude</th>\n",
       "      <th>price</th>\n",
       "    </tr>\n",
       "  </thead>\n",
       "  <tbody>\n",
       "    <tr>\n",
       "      <th>count</th>\n",
       "      <td>49352.00000</td>\n",
       "      <td>49352.000000</td>\n",
       "      <td>49352.000000</td>\n",
       "      <td>49352.000000</td>\n",
       "      <td>4.935200e+04</td>\n",
       "    </tr>\n",
       "    <tr>\n",
       "      <th>mean</th>\n",
       "      <td>1.21218</td>\n",
       "      <td>1.541640</td>\n",
       "      <td>40.741545</td>\n",
       "      <td>-73.955716</td>\n",
       "      <td>3.830174e+03</td>\n",
       "    </tr>\n",
       "    <tr>\n",
       "      <th>std</th>\n",
       "      <td>0.50142</td>\n",
       "      <td>1.115018</td>\n",
       "      <td>0.638535</td>\n",
       "      <td>1.177912</td>\n",
       "      <td>2.206687e+04</td>\n",
       "    </tr>\n",
       "    <tr>\n",
       "      <th>min</th>\n",
       "      <td>0.00000</td>\n",
       "      <td>0.000000</td>\n",
       "      <td>0.000000</td>\n",
       "      <td>-118.271000</td>\n",
       "      <td>4.300000e+01</td>\n",
       "    </tr>\n",
       "    <tr>\n",
       "      <th>25%</th>\n",
       "      <td>1.00000</td>\n",
       "      <td>1.000000</td>\n",
       "      <td>40.728300</td>\n",
       "      <td>-73.991700</td>\n",
       "      <td>2.500000e+03</td>\n",
       "    </tr>\n",
       "    <tr>\n",
       "      <th>50%</th>\n",
       "      <td>1.00000</td>\n",
       "      <td>1.000000</td>\n",
       "      <td>40.751800</td>\n",
       "      <td>-73.977900</td>\n",
       "      <td>3.150000e+03</td>\n",
       "    </tr>\n",
       "    <tr>\n",
       "      <th>75%</th>\n",
       "      <td>1.00000</td>\n",
       "      <td>2.000000</td>\n",
       "      <td>40.774300</td>\n",
       "      <td>-73.954800</td>\n",
       "      <td>4.100000e+03</td>\n",
       "    </tr>\n",
       "    <tr>\n",
       "      <th>max</th>\n",
       "      <td>10.00000</td>\n",
       "      <td>8.000000</td>\n",
       "      <td>44.883500</td>\n",
       "      <td>0.000000</td>\n",
       "      <td>4.490000e+06</td>\n",
       "    </tr>\n",
       "  </tbody>\n",
       "</table>\n",
       "</div>"
      ],
      "text/plain": [
       "         bathrooms      bedrooms      latitude     longitude         price\n",
       "count  49352.00000  49352.000000  49352.000000  49352.000000  4.935200e+04\n",
       "mean       1.21218      1.541640     40.741545    -73.955716  3.830174e+03\n",
       "std        0.50142      1.115018      0.638535      1.177912  2.206687e+04\n",
       "min        0.00000      0.000000      0.000000   -118.271000  4.300000e+01\n",
       "25%        1.00000      1.000000     40.728300    -73.991700  2.500000e+03\n",
       "50%        1.00000      1.000000     40.751800    -73.977900  3.150000e+03\n",
       "75%        1.00000      2.000000     40.774300    -73.954800  4.100000e+03\n",
       "max       10.00000      8.000000     44.883500      0.000000  4.490000e+06"
      ]
     },
     "execution_count": 27,
     "metadata": {},
     "output_type": "execute_result"
    }
   ],
   "source": [
    "twosigma_train.set_index('id', inplace = True)\n",
    "twosigma_test.set_index('id', inplace = True)\n",
    "\n",
    "\n",
    "twosigma_train.describe()"
   ]
  },
  {
   "cell_type": "code",
   "execution_count": 28,
   "metadata": {},
   "outputs": [
    {
     "data": {
      "text/html": [
       "<div>\n",
       "<style scoped>\n",
       "    .dataframe tbody tr th:only-of-type {\n",
       "        vertical-align: middle;\n",
       "    }\n",
       "\n",
       "    .dataframe tbody tr th {\n",
       "        vertical-align: top;\n",
       "    }\n",
       "\n",
       "    .dataframe thead th {\n",
       "        text-align: right;\n",
       "    }\n",
       "</style>\n",
       "<table border=\"1\" class=\"dataframe\">\n",
       "  <thead>\n",
       "    <tr style=\"text-align: right;\">\n",
       "      <th></th>\n",
       "      <th>bathrooms</th>\n",
       "      <th>bedrooms</th>\n",
       "      <th>building_id</th>\n",
       "      <th>latitude</th>\n",
       "      <th>longitude</th>\n",
       "      <th>manager_id</th>\n",
       "      <th>price</th>\n",
       "      <th>interest_level</th>\n",
       "    </tr>\n",
       "    <tr>\n",
       "      <th>id</th>\n",
       "      <th></th>\n",
       "      <th></th>\n",
       "      <th></th>\n",
       "      <th></th>\n",
       "      <th></th>\n",
       "      <th></th>\n",
       "      <th></th>\n",
       "      <th></th>\n",
       "    </tr>\n",
       "  </thead>\n",
       "  <tbody>\n",
       "    <tr>\n",
       "      <th>7170325</th>\n",
       "      <td>1.0</td>\n",
       "      <td>1</td>\n",
       "      <td>8579a0b0d54db803821a35a4a615e97a</td>\n",
       "      <td>40.7108</td>\n",
       "      <td>-73.9539</td>\n",
       "      <td>a10db4590843d78c784171a107bdacb4</td>\n",
       "      <td>2400</td>\n",
       "      <td>medium</td>\n",
       "    </tr>\n",
       "    <tr>\n",
       "      <th>7092344</th>\n",
       "      <td>1.0</td>\n",
       "      <td>2</td>\n",
       "      <td>b8e75fc949a6cd8225b455648a951712</td>\n",
       "      <td>40.7513</td>\n",
       "      <td>-73.9722</td>\n",
       "      <td>955db33477af4f40004820b4aed804a0</td>\n",
       "      <td>3800</td>\n",
       "      <td>low</td>\n",
       "    </tr>\n",
       "    <tr>\n",
       "      <th>7158677</th>\n",
       "      <td>1.0</td>\n",
       "      <td>2</td>\n",
       "      <td>cd759a988b8f23924b5a2058d5ab2b49</td>\n",
       "      <td>40.7575</td>\n",
       "      <td>-73.9625</td>\n",
       "      <td>c8b10a317b766204f08e613cef4ce7a0</td>\n",
       "      <td>3495</td>\n",
       "      <td>medium</td>\n",
       "    </tr>\n",
       "    <tr>\n",
       "      <th>7211212</th>\n",
       "      <td>1.5</td>\n",
       "      <td>3</td>\n",
       "      <td>53a5b119ba8f7b61d4e010512e0dfc85</td>\n",
       "      <td>40.7145</td>\n",
       "      <td>-73.9425</td>\n",
       "      <td>5ba989232d0489da1b5f2c45f6688adc</td>\n",
       "      <td>3000</td>\n",
       "      <td>medium</td>\n",
       "    </tr>\n",
       "    <tr>\n",
       "      <th>7225292</th>\n",
       "      <td>1.0</td>\n",
       "      <td>0</td>\n",
       "      <td>bfb9405149bfff42a92980b594c28234</td>\n",
       "      <td>40.7439</td>\n",
       "      <td>-73.9743</td>\n",
       "      <td>2c3b41f588fbb5234d8a1e885a436cfa</td>\n",
       "      <td>2795</td>\n",
       "      <td>low</td>\n",
       "    </tr>\n",
       "    <tr>\n",
       "      <th>7226687</th>\n",
       "      <td>1.0</td>\n",
       "      <td>3</td>\n",
       "      <td>300d27d8ba2adbcbc8c6f2bcbc1c6f9d</td>\n",
       "      <td>40.7348</td>\n",
       "      <td>-73.9865</td>\n",
       "      <td>30a7951cfc21240e8c46b2d079d292e5</td>\n",
       "      <td>7200</td>\n",
       "      <td>low</td>\n",
       "    </tr>\n",
       "    <tr>\n",
       "      <th>7126989</th>\n",
       "      <td>2.0</td>\n",
       "      <td>3</td>\n",
       "      <td>0d01cabe55fa5192cdbcabd5c585c1ea</td>\n",
       "      <td>40.7302</td>\n",
       "      <td>-73.9826</td>\n",
       "      <td>9f39caedae295bf81e67463e6fd0af40</td>\n",
       "      <td>6000</td>\n",
       "      <td>low</td>\n",
       "    </tr>\n",
       "    <tr>\n",
       "      <th>7114138</th>\n",
       "      <td>1.0</td>\n",
       "      <td>0</td>\n",
       "      <td>d48767c37a934daaf0bbb0e58c755d0c</td>\n",
       "      <td>40.7769</td>\n",
       "      <td>-73.9467</td>\n",
       "      <td>9cbfa7a31ae9dfba70b4383636d99788</td>\n",
       "      <td>1945</td>\n",
       "      <td>high</td>\n",
       "    </tr>\n",
       "    <tr>\n",
       "      <th>7131094</th>\n",
       "      <td>0.0</td>\n",
       "      <td>1</td>\n",
       "      <td>d1ca33a2853e64fad6e4009d5d5d168f</td>\n",
       "      <td>40.7346</td>\n",
       "      <td>-73.9811</td>\n",
       "      <td>b89e62bf8cdc98e9fb8b97d9bc627197</td>\n",
       "      <td>2435</td>\n",
       "      <td>low</td>\n",
       "    </tr>\n",
       "    <tr>\n",
       "      <th>7224815</th>\n",
       "      <td>3.0</td>\n",
       "      <td>3</td>\n",
       "      <td>5f35dc2f0191baf109221752e6ee0c48</td>\n",
       "      <td>40.6990</td>\n",
       "      <td>-73.9943</td>\n",
       "      <td>d5d246c9d9d4e7079e5a0fc962d2f1a7</td>\n",
       "      <td>6850</td>\n",
       "      <td>low</td>\n",
       "    </tr>\n",
       "  </tbody>\n",
       "</table>\n",
       "</div>"
      ],
      "text/plain": [
       "         bathrooms  bedrooms                       building_id  latitude  \\\n",
       "id                                                                         \n",
       "7170325        1.0         1  8579a0b0d54db803821a35a4a615e97a   40.7108   \n",
       "7092344        1.0         2  b8e75fc949a6cd8225b455648a951712   40.7513   \n",
       "7158677        1.0         2  cd759a988b8f23924b5a2058d5ab2b49   40.7575   \n",
       "7211212        1.5         3  53a5b119ba8f7b61d4e010512e0dfc85   40.7145   \n",
       "7225292        1.0         0  bfb9405149bfff42a92980b594c28234   40.7439   \n",
       "7226687        1.0         3  300d27d8ba2adbcbc8c6f2bcbc1c6f9d   40.7348   \n",
       "7126989        2.0         3  0d01cabe55fa5192cdbcabd5c585c1ea   40.7302   \n",
       "7114138        1.0         0  d48767c37a934daaf0bbb0e58c755d0c   40.7769   \n",
       "7131094        0.0         1  d1ca33a2853e64fad6e4009d5d5d168f   40.7346   \n",
       "7224815        3.0         3  5f35dc2f0191baf109221752e6ee0c48   40.6990   \n",
       "\n",
       "         longitude                        manager_id  price interest_level  \n",
       "id                                                                          \n",
       "7170325   -73.9539  a10db4590843d78c784171a107bdacb4   2400         medium  \n",
       "7092344   -73.9722  955db33477af4f40004820b4aed804a0   3800            low  \n",
       "7158677   -73.9625  c8b10a317b766204f08e613cef4ce7a0   3495         medium  \n",
       "7211212   -73.9425  5ba989232d0489da1b5f2c45f6688adc   3000         medium  \n",
       "7225292   -73.9743  2c3b41f588fbb5234d8a1e885a436cfa   2795            low  \n",
       "7226687   -73.9865  30a7951cfc21240e8c46b2d079d292e5   7200            low  \n",
       "7126989   -73.9826  9f39caedae295bf81e67463e6fd0af40   6000            low  \n",
       "7114138   -73.9467  9cbfa7a31ae9dfba70b4383636d99788   1945           high  \n",
       "7131094   -73.9811  b89e62bf8cdc98e9fb8b97d9bc627197   2435            low  \n",
       "7224815   -73.9943  d5d246c9d9d4e7079e5a0fc962d2f1a7   6850            low  "
      ]
     },
     "execution_count": 28,
     "metadata": {},
     "output_type": "execute_result"
    }
   ],
   "source": [
    "twosigma_train.head(10)"
   ]
  },
  {
   "cell_type": "markdown",
   "metadata": {},
   "source": [
    "### 2.2.2 EDA. Part II\n",
    "\n",
    "Draw some plots"
   ]
  },
  {
   "cell_type": "code",
   "execution_count": 23,
   "metadata": {},
   "outputs": [],
   "source": [
    "import matplotlib.pyplot as plt\n",
    "\n",
    "plt.style.use('ggplot')\n",
    "\n",
    "# find the median price by the interest level\n",
    "prices = twosigma_train.groupby('interest_level', as_index=False)['price'].median()"
   ]
  },
  {
   "cell_type": "code",
   "execution_count": 25,
   "metadata": {},
   "outputs": [
    {
     "data": {
      "image/png": "[encoded data removed]",
      "text/plain": [
       "<Figure size 504x360 with 1 Axes>"
      ]
     },
     "metadata": {
      "needs_background": "light"
     },
     "output_type": "display_data"
    }
   ],
   "source": [
    "# Draw a barplot\n",
    "fig = plt.figure(figsize=(7,5))\n",
    "plt.bar(prices.interest_level, prices.price, width=0.5, alpha = 0.8)\n",
    "\n",
    "plt.xlabel('Interest level')\n",
    "plt.ylabel('Median price')\n",
    "plt.title('Median listing price across interest level')\n",
    "\n",
    "plt.show()\n",
    "\"\"\" This shows that lower median price get high interest level, while higher prices get low interest level. \"\"\""
   ]
  },
  {
   "cell_type": "code",
   "execution_count": 33,
   "metadata": {},
   "outputs": [
    {
     "data": {
      "text/plain": [
       "low       34284\n",
       "medium    11229\n",
       "high       3839\n",
       "Name: interest_level, dtype: int64"
      ]
     },
     "execution_count": 33,
     "metadata": {},
     "output_type": "execute_result"
    }
   ],
   "source": [
    "twosigma_train.interest_level.value_counts()"
   ]
  },
  {
   "cell_type": "markdown",
   "metadata": {},
   "source": [
    "## 2.3 Local validation\n",
    "- K-fold cross-validation\n",
    "- Stratified K-fold  \n",
    " "
   ]
  },
  {
   "cell_type": "markdown",
   "metadata": {},
   "source": [
    "## 2.4 Validation usage\n",
    "- Time K-fold\n",
    "- Overall validation score.  \n",
    " "
   ]
  },
  {
   "cell_type": "markdown",
   "metadata": {},
   "source": []
  }
 ],
 "metadata": {
  "kernelspec": {
   "display_name": "Python 3.8.10 ('aiocr_build_conda_forge')",
   "language": "python",
   "name": "python3"
  },
  "language_info": {
   "codemirror_mode": {
    "name": "ipython",
    "version": 3
   },
   "file_extension": ".py",
   "mimetype": "text/x-python",
   "name": "python",
   "nbconvert_exporter": "python",
   "pygments_lexer": "ipython3",
   "version": "3.8.10"
  },
  "orig_nbformat": 4,
  "vscode": {
   "interpreter": {
    "hash": "9875023620737143c8dc63fb6d5d675f88b03edceb439507150cf34b5a306239"
   }
  }
 },
 "nbformat": 4,
 "nbformat_minor": 2
}
