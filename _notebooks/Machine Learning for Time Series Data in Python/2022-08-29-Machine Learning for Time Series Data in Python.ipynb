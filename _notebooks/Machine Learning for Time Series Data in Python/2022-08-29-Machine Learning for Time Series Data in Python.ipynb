{
 "cells": [
  {
   "cell_type": "markdown",
   "metadata": {},
   "source": [
    "# Machine Learning for Time Series Data in Python\n",
    "\n",
    "> Updating ...\n",
    "\n",
    "> Time series data is ubiquitous. Whether it be stock market fluctuations, sensor data recording climate change, or activity in the brain, any signal that changes over time can be described as a time series.\n",
    "\n",
    "- toc: true\n",
    "- branch: master\n",
    "- badges: true\n",
    "- comments: true\n",
    "- author: Datacamp\n",
    "- categories: [Python, Data Visualization, EDA, Time Series, Machine Learning, scikit-learn, Regression, classification, Tempogram, Spectrogram, Cross-valiation, Stationarity]\n",
    "- image: images/timeseries.png\n",
    "- hide: false\n",
    "- search_exclude: true\n",
    "- metadata_key1: metadata_value1\n",
    "- metadata_key2: metadata_value2\n"
   ]
  },
  {
   "cell_type": "markdown",
   "metadata": {},
   "source": [
    "> Machine learning has emerged as a powerful method for leveraging complexity in data in order to generate predictions and insights into the problem one is trying to solve. This course is an intersection between these two worlds of machine learning and time series data, and covers feature engineering, spectograms, and other advanced techniques in order to classify heartbeat sounds and predict stock prices.\n",
    "\n",
    "PREREQUISITES: Manipulating Time Series Data in Python, Visualizing Time Series Data in Python, Machine Learning with scikit-learn"
   ]
  },
  {
   "cell_type": "markdown",
   "metadata": {},
   "source": [
    "[**Download Datasets and Presentation slides for this post HERE**](https://github.com/anhhaibkhn/Data-Science-selfstudy-notes-Blog/tree/master/_notebooks/Machine%20Learning%20for%20Time%20Series%20Data%20in%20Python)"
   ]
  },
  {
   "cell_type": "code",
   "execution_count": 1,
   "metadata": {},
   "outputs": [],
   "source": [
    "import pandas as pd\n",
    "import numpy as np\n",
    "import warnings\n",
    "\n",
    "pd.set_option('display.expand_frame_repr', False)\n",
    "\n",
    "warnings.filterwarnings(\"ignore\", category=DeprecationWarning)\n",
    "warnings.filterwarnings(\"ignore\", category=FutureWarning)"
   ]
  },
  {
   "cell_type": "markdown",
   "metadata": {},
   "source": [
    "## Time Series and Machine Learning Primer\n",
    "\n",
    "> This chapter is an introduction to the basics of machine learning, time series data, and the intersection between the two.\n",
    "\n",
    "\n",
    "### Timeseries kinds and applications\n",
    "\n",
    "- Identifying a time series\n",
    "- Plotting a time series (I)\n",
    "- Plotting a time series (II)\n",
    "\n",
    "\n",
    "### Machine learning basics\n",
    "\n",
    "- Fitting a simple model: classification\n",
    "- Predicting using a classification model\n",
    "- Fitting a simple model: regression\n",
    "- Predicting using a regression model\n",
    "\n",
    "\n",
    "### Machine learning and time series data\n",
    "\n",
    "- Inspecting the classification data\n",
    "- Inspecting the regression data\n"
   ]
  },
  {
   "cell_type": "markdown",
   "metadata": {},
   "source": [
    "\n",
    "## Time Series as Inputs to a Model\n",
    "> The easiest way to incorporate time series into your machine learning pipeline is to use them as features in a model. This chapter covers common features that are extracted from time series in order to do machine learning.\n",
    "\n",
    "\n",
    "### Classifying a time series\n",
    "\n",
    "- Many repetitions of sounds\n",
    "- Invariance in time\n",
    "- Build a classification model\n",
    "\n",
    "\n",
    "### Improving features for classification\n",
    "\n",
    "- Calculating the envelope of sound\n",
    "- Calculating features from the envelope\n",
    "- Derivative features: The tempogram\n",
    "\n",
    "\n",
    "### The spectrogram\n",
    "\n",
    "- Spectrograms of heartbeat audio\n",
    "- Engineering spectral features\n",
    "- Combining many features in a classifier\n"
   ]
  },
  {
   "cell_type": "markdown",
   "metadata": {},
   "source": [
    "\n",
    "## Predicting Time Series Data\n",
    "\n",
    "> If you want to predict patterns from data over time, there are special considerations to take in how you choose and construct your model. This chapter covers how to gain insights into the data before fitting your model, as well as best-practices in using predictive modeling for time series data.\n",
    "\n",
    "\n",
    "### Predicting data over time\n",
    "\n",
    "- Introducing the dataset\n",
    "- Fitting a simple regression model\n",
    "- Visualizing predicted values\n",
    "\n",
    "\n",
    "### Advanced time series prediction\n",
    "\n",
    "- Visualizing messy data\n",
    "- Imputing missing values\n",
    "- Transforming raw data\n",
    "- Handling outliers\n",
    "\n",
    "\n",
    "### Creating features over time\n",
    "\n",
    "- Engineering multiple rolling features at once\n",
    "- Percentiles and partial functions\n",
    "- Using \"date\" information\n"
   ]
  },
  {
   "cell_type": "markdown",
   "metadata": {},
   "source": [
    "\n",
    "## Validating and Inspecting Time Series Models\n",
    "\n",
    "> Once you've got a model for predicting time series data, you need to decide if it's a good or a bad model. This chapter coves the basics of generating predictions with models in order to validate them against \"test\" data.\n",
    "\n",
    "### Creating features from the past\n",
    "\n",
    "- Creating time-shifted features\n",
    "- Special case: Auto-regressive models\n",
    "- Visualize regression coefficients\n",
    "- Auto-regression with a smoother time series\n",
    "\n",
    "\n",
    "### Cross-validating time series data\n",
    "\n",
    "- Cross-validation with shuffling\n",
    "- Cross-validation without shuffling\n",
    "- Time-based cross-validation\n",
    "\n",
    "\n",
    "### Stationarity and stability\n",
    "\n",
    "- Stationarity\n",
    "- Bootstrapping a confidence interval\n",
    "- Calculating variability in model coefficients\n",
    "- Visualizing model score variability over time\n",
    "- Accounting for non-stationarity\n",
    "\n",
    "\n",
    "### Wrap-up\n"
   ]
  },
  {
   "cell_type": "markdown",
   "metadata": {},
   "source": []
  }
 ],
 "metadata": {
  "kernelspec": {
   "display_name": "Python 3.9.13 ('my_conda_env')",
   "language": "python",
   "name": "python3"
  },
  "language_info": {
   "codemirror_mode": {
    "name": "ipython",
    "version": 3
   },
   "file_extension": ".py",
   "mimetype": "text/x-python",
   "name": "python",
   "nbconvert_exporter": "python",
   "pygments_lexer": "ipython3",
   "version": "3.9.13"
  },
  "orig_nbformat": 4,
  "vscode": {
   "interpreter": {
    "hash": "0f080ef3f7e154a5496448b61eb994fbc79c03fae547c033702ffc1b7b2a346b"
   }
  }
 },
 "nbformat": 4,
 "nbformat_minor": 2
}
