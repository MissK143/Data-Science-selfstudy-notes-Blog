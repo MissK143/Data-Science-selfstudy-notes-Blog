{
 "cells": [
  {
   "cell_type": "markdown",
   "metadata": {},
   "source": [
    "# Visualizing Time Series Data in Python\n",
    "\n",
    "> Updating ...\n",
    "\n",
    "> Time series data is omnipresent in the field of Data Science. This course will provide practical knowledge on visualizing time series data using Python.\n",
    "\n",
    "- toc: true\n",
    "- branch: master\n",
    "- badges: true\n",
    "- comments: true\n",
    "- author: Datacamp\n",
    "- categories: [Python, Data Visualization, EDA, Time Series, Machine Learning, Boxplots, Histograms, Density plots, Correlation, Clustered heatmaps]\n",
    "- image: images/TimeSeriesVisualizing.png\n",
    "- hide: false\n",
    "- search_exclude: true\n",
    "- metadata_key1: metadata_value1\n",
    "- metadata_key2: metadata_value2\n",
    "\n",
    "> Time series data is omnipresent in the field of Data Science. Whether it is analyzing business trends, forecasting company revenue or exploring customer behavior, every data scientist is likely to encounter time series data at some point during their work. To get you started on working with time series data, this course will provide practical knowledge on visualizing time series data using Python.\n",
    "\n",
    "PREREQUISITES: Introduction to Data Visualization with Matplotlib, Manipulating Time Series Data in Python"
   ]
  },
  {
   "cell_type": "code",
   "execution_count": 1,
   "metadata": {},
   "outputs": [],
   "source": [
    "import pandas as pd\n",
    "import numpy as np\n",
    "import warnings\n",
    "\n",
    "pd.set_option('display.expand_frame_repr', False)\n",
    "\n",
    "warnings.filterwarnings(\"ignore\", category=DeprecationWarning)\n",
    "warnings.filterwarnings(\"ignore\", category=FutureWarning)"
   ]
  },
  {
   "cell_type": "markdown",
   "metadata": {},
   "source": [
    "## Working with Time Series in Pandas\n",
    "\n",
    "> This chapter lays the foundations to leverage the powerful time series functionality made available by how Pandas represents dates, in particular by the DateTimeIndex. You will learn how to create and manipulate date information and time series, and how to do calculations with time-aware DataFrames to shift your data in time or create period-specific returns.\n",
    "\n",
    "### How to use dates & times with pandas\n",
    "\n",
    "- Your first time series\n",
    "\n",
    "\n",
    "### Indexing & resampling time series\n",
    "\n",
    "- Create a time series of air quality data\n",
    "- Compare annual stock price trends\n",
    "- Set and change time series frequency\n",
    "\n",
    "\n",
    "### Lags, changes, and returns for stock price series\n",
    "\n",
    "- Shifting stock prices across time\n",
    "- Calculating stock price changes\n",
    "- Plotting multi-period returns\n",
    "\n"
   ]
  },
  {
   "cell_type": "markdown",
   "metadata": {},
   "source": [
    "\n",
    "## Basic Time Series Metrics & Resampling\n",
    "\n",
    "> This chapter dives deeper into the essential time series functionality made available through the pandas DataTimeIndex. It introduces resampling and how to compare different time series by normalizing their start points.\n",
    "\n",
    "### Compare time series growth rates\n",
    "- Compare the performance of several asset classes\n",
    "- Comparing stock prices with a benchmark\n",
    "- Plot performance difference vs benchmark index\n",
    "\n",
    "### Changing the time series frequency: resampling\n",
    "- Convert monthly to weekly data\n",
    "- Create weekly from monthly unemployment data\n",
    "\n",
    "### Upsampling & interpolation with .resample()\n",
    "- Use interpolation to create weekly employment data\n",
    "- Interpolate debt/GDP and compare to unemployment\n",
    "\n",
    "### Downsampling & aggregation\n",
    "- Compare weekly, monthly and annual ozone trends for NYC & LA\n",
    "- Compare monthly average stock prices for Facebook and Google\n",
    "- Compare quarterly GDP growth rate and stock returns\n",
    "- Visualize monthly mean, median and standard deviation of S&P500 returns\n"
   ]
  },
  {
   "cell_type": "markdown",
   "metadata": {},
   "source": [
    "\n",
    "## Window Functions: Rolling & Expanding Metrics\n",
    "\n",
    "> This chapter will show you how to use window function to calculate time series metrics for both rolling and expanding windows.\n",
    "\n",
    "### Rolling window functions with pandas\n",
    "- Rolling average air quality since 2010 for new york city\n",
    "- Rolling 360-day median & std. deviation for nyc ozone data since 2000\n",
    "- Rolling quantiles for daily air quality in nyc\n",
    "\n",
    "### Expanding window functions with pandas\n",
    "- Cumulative sum vs .diff()\n",
    "- Cumulative return on $1,000 invested in google vs apple I\n",
    "- Cumulative return on $1,000 invested in google vs apple II\n",
    "\n",
    "### Case study: S&P500 price simulation\n",
    "- Random walk I\n",
    "- Random walk II\n",
    "- Random walk III\n",
    "\n",
    "### Relationships between time series: correlation\n",
    "- Annual return correlations among several stocks\n",
    "\n",
    "\n"
   ]
  },
  {
   "cell_type": "markdown",
   "metadata": {},
   "source": [
    "\n",
    "## Putting it all together: Building a value-weighted index\n",
    "\n",
    "> This chapter combines the previous concepts by teaching you how to create a value-weighted index. This index uses market-cap data contained in the stock exchange listings to calculate weights and 2016 stock price information. Index performance is then compared against benchmarks to evaluate the performance of the index you created.\n",
    "\n",
    "### Select index components & import data\n",
    "- Explore and clean company listing information\n",
    "- Select and inspect index components\n",
    "- Import index component price information\n",
    "\n",
    "### Build a market-cap weighted index\n",
    "- Calculate number of shares outstanding\n",
    "- Create time series of market value\n",
    "- Calculate & plot the composite index\n",
    "\n",
    "### Evaluate index performance\n",
    "- Calculate the contribution of each stock to the index\n",
    "- Compare index performance against benchmark I\n",
    "- Compare index performance against benchmark II\n",
    "\n",
    "### Index correlation & exporting to Excel\n",
    "- Visualize your index constituent correlations\n",
    "- Save your analysis to multiple excel worksheets\n",
    "- Congratulations!\n",
    "\n"
   ]
  }
 ],
 "metadata": {
  "kernelspec": {
   "display_name": "Python 3.9.13 ('my_conda_env')",
   "language": "python",
   "name": "python3"
  },
  "language_info": {
   "codemirror_mode": {
    "name": "ipython",
    "version": 3
   },
   "file_extension": ".py",
   "mimetype": "text/x-python",
   "name": "python",
   "nbconvert_exporter": "python",
   "pygments_lexer": "ipython3",
   "version": "3.9.13"
  },
  "orig_nbformat": 4,
  "vscode": {
   "interpreter": {
    "hash": "0f080ef3f7e154a5496448b61eb994fbc79c03fae547c033702ffc1b7b2a346b"
   }
  }
 },
 "nbformat": 4,
 "nbformat_minor": 2
}
