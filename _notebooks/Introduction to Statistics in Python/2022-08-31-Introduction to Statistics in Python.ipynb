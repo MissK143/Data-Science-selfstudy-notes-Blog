{
 "cells": [
  {
   "cell_type": "markdown",
   "metadata": {},
   "source": [
    "# Introduction to Statistics in Python\n",
    "\n",
    "> Statistics is the study of how to collect, analyze, and draw conclusions from data. It’s a hugely valuable tool that you can use to bring the future into focus and infer the answer to tons of questions. Updating ...\n",
    "\n",
    "- toc: true\n",
    "- branch: master\n",
    "- badges: true\n",
    "- comments: true\n",
    "- author: Datacamp\n",
    "- categories: [Python, Data Visualization, EDA, Time Series, Machine Learning, scikit-learn, Regression, classification, Tempogram, Spectrogram, Cross-valiation, Stationarity]\n",
    "- image: images/stats_intro.png\n",
    "- hide: false\n",
    "- search_exclude: true\n",
    "- metadata_key1: metadata_value1\n",
    "- metadata_key2: metadata_value2\n"
   ]
  },
  {
   "cell_type": "markdown",
   "metadata": {},
   "source": [
    "> Statistics is the study of how to collect, analyze, and draw conclusions from data. It’s a hugely valuable tool that you can use to bring the future into focus and infer the answer to tons of questions. For example, what is the likelihood of someone purchasing your product, how many calls will your support team receive, and how many jeans sizes should you manufacture to fit 95% of the population? In this course, you'll discover how to answer questions like these as you grow your statistical skills and learn how to calculate averages, use scatterplots to show the relationship between numeric values, and calculate correlation. You'll also tackle probability, the backbone of statistical reasoning, and learn how to use Python to conduct a well-designed study to draw your own conclusions from data."
   ]
  },
  {
   "cell_type": "code",
   "execution_count": 1,
   "metadata": {},
   "outputs": [],
   "source": [
    "import pandas as pd\n",
    "import numpy as np\n",
    "import warnings\n",
    "import matplotlib.pyplot as plt\n",
    "plt.rcParams['figure.figsize'] = [8, 6]\n",
    "\n",
    "pd.set_option('display.expand_frame_repr', False)\n",
    "\n",
    "warnings.filterwarnings(\"ignore\", category=DeprecationWarning)\n",
    "warnings.filterwarnings(\"ignore\", category=FutureWarning)"
   ]
  },
  {
   "cell_type": "markdown",
   "metadata": {},
   "source": [
    "## Summary Statistics\n",
    "\n",
    "> Summary statistics gives you the tools you need to boil down massive datasets to reveal the highlights. In this chapter, you'll explore summary statistics including mean, median, and standard deviation, and learn how to accurately interpret them. You'll also develop your critical thinking skills, allowing you to choose the best summary statistics for your data."
   ]
  },
  {
   "cell_type": "markdown",
   "metadata": {},
   "source": [
    "### What is statistics?\n",
    "> **Descriptive and inferential statistics**\n",
    "> **Data type classification**\n",
    "\n",
    "### Measures of center\n",
    "> **Mean and median**\n",
    "> **Mean vs. median**\n",
    "\n",
    "### Measures of spread\n",
    "> **Quartiles, quantiles, and quintiles**\n",
    "> **Variance and standard deviation**\n",
    "> **Finding outliers using IQR**"
   ]
  },
  {
   "cell_type": "markdown",
   "metadata": {},
   "source": [
    "## Random Numbers and Probability\n",
    "\n",
    "> In this chapter, you'll learn how to generate random samples and measure chance using probability. You'll work with real-world sales data to calculate the probability of a salesperson being successful. Finally, you’ll use the binomial distribution to model events with binary outcomes."
   ]
  },
  {
   "cell_type": "markdown",
   "metadata": {},
   "source": [
    "### What are the chances?\n",
    "> **With or without replacement?**\n",
    "> **Calculating probabilities**\n",
    "> **Sampling deals**\n",
    "\n",
    "### Discrete distributions\n",
    "> **Creating a probability distribution**\n",
    "> **Identifying distributions**\n",
    "> **Expected value vs. sample mean**\n",
    "\n",
    "### Continuous distributions\n",
    "> **Which distribution?**\n",
    "> **Data back-ups**\n",
    "> **Simulating wait times**\n",
    "\n",
    "### The binomial distribution\n",
    "> **Simulating sales deals**\n",
    "> **Calculating binomial probabilities**\n",
    "> **How many sales will be won?**"
   ]
  },
  {
   "cell_type": "markdown",
   "metadata": {},
   "source": [
    "## More Distributions and the Central Limit Theorem\n",
    "\n",
    "> It’s time to explore one of the most important probability distributions in statistics, normal distribution. You’ll create histograms to plot normal distributions and gain an understanding of the central limit theorem, before expanding your knowledge of statistical functions by adding the Poisson, exponential, and t-distributions to your repertoire."
   ]
  },
  {
   "cell_type": "markdown",
   "metadata": {},
   "source": [
    "### The normal distribution\n",
    "> **Distribution of Amir's sales**\n",
    "> **Probabilities from the normal distribution**\n",
    "> **Simulating sales under new market conditions**\n",
    "> **Which market is better?**\n",
    "\n",
    "### The central limit theorem\n",
    "> **Visualizing sampling distributions**\n",
    "> **The CLT in action**\n",
    "> **The mean of means**\n",
    "\n",
    "### The Poisson distribution\n",
    "> **Identifying lambda**\n",
    "> **Tracking lead responses**\n",
    "\n",
    "### More probability distributions\n",
    "> **Distribution dragging and dropping**\n",
    "> **Modeling time between leads**\n",
    "> **The t-distribution**"
   ]
  },
  {
   "cell_type": "markdown",
   "metadata": {},
   "source": [
    "## Correlation and Experimental Design\n",
    "\n",
    "> In this chapter, you'll learn how to quantify the strength of a linear relationship between two variables, and explore how confounding variables can affect the relationship between two other variables. You'll also see how a study’s design can influence its results, change how the data should be analyzed, and potentially affect the reliability of your conclusions."
   ]
  },
  {
   "cell_type": "markdown",
   "metadata": {},
   "source": [
    "### Correlation\n",
    "> **Guess the correlation**\n",
    "> **Relationships between variables**\n",
    "\n",
    "### Correlation caveats\n",
    "> **What can't correlation measure?**\n",
    "> **Transforming variables**\n",
    "> **Does sugar improve happiness?**\n",
    "> **Confounders**\n",
    "\n",
    "### Design of experiments\n",
    "> **Study types**\n",
    "> **Longitudinal vs. cross-sectional studies**\n",
    "\n",
    "### Congratulations!"
   ]
  },
  {
   "cell_type": "markdown",
   "metadata": {},
   "source": []
  }
 ],
 "metadata": {
  "kernelspec": {
   "display_name": "Python 3.9.13 ('my_conda_env')",
   "language": "python",
   "name": "python3"
  },
  "language_info": {
   "codemirror_mode": {
    "name": "ipython",
    "version": 3
   },
   "file_extension": ".py",
   "mimetype": "text/x-python",
   "name": "python",
   "nbconvert_exporter": "python",
   "pygments_lexer": "ipython3",
   "version": "3.9.13"
  },
  "orig_nbformat": 4,
  "vscode": {
   "interpreter": {
    "hash": "0f080ef3f7e154a5496448b61eb994fbc79c03fae547c033702ffc1b7b2a346b"
   }
  }
 },
 "nbformat": 4,
 "nbformat_minor": 2
}
